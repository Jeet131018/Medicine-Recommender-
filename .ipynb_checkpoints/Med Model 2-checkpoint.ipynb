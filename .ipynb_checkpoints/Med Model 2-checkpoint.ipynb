{
 "cells": [
  {
   "cell_type": "code",
   "execution_count": 2,
   "id": "2047828f",
   "metadata": {},
   "outputs": [],
   "source": [
    "import pandas as pd\n",
    "import numpy as np\n",
    "import matplotlib.pyplot as plt\n",
    "from sklearn.model_selection import train_test_split\n",
    "from sklearn.svm import SVC\n",
    "from sklearn.metrics import f1_score, accuracy_score, confusion_matrix\n",
    "import seaborn as sns\n",
    "from tkinter import *\n",
    "from tkinter import messagebox\n",
    "import sys \n",
    "import urllib\n",
    "import urllib.request\n",
    "import joblib"
   ]
  },
  {
   "cell_type": "code",
   "execution_count": 3,
   "id": "ece6437b",
   "metadata": {},
   "outputs": [],
   "source": [
    "df=pd.read_csv(\"dataset.csv\")\n",
    "df1=pd.read_csv(\"archive/Symptom-severity.csv\")"
   ]
  },
  {
   "cell_type": "code",
   "execution_count": 4,
   "id": "cee9e254",
   "metadata": {},
   "outputs": [
    {
     "data": {
      "text/plain": [
       "(4920, 18)"
      ]
     },
     "execution_count": 4,
     "metadata": {},
     "output_type": "execute_result"
    }
   ],
   "source": [
    "df.shape"
   ]
  },
  {
   "cell_type": "code",
   "execution_count": 5,
   "id": "ea9d4ed3",
   "metadata": {},
   "outputs": [
    {
     "data": {
      "text/plain": [
       "Disease          0\n",
       "Symptom_1        0\n",
       "Symptom_2        0\n",
       "Symptom_3        0\n",
       "Symptom_4      348\n",
       "Symptom_5     1206\n",
       "Symptom_6     1986\n",
       "Symptom_7     2652\n",
       "Symptom_8     2976\n",
       "Symptom_9     3228\n",
       "Symptom_10    3408\n",
       "Symptom_11    3726\n",
       "Symptom_12    4176\n",
       "Symptom_13    4416\n",
       "Symptom_14    4614\n",
       "Symptom_15    4680\n",
       "Symptom_16    4728\n",
       "Symptom_17    4848\n",
       "dtype: int64"
      ]
     },
     "execution_count": 5,
     "metadata": {},
     "output_type": "execute_result"
    }
   ],
   "source": [
    "#to check all the null values in all the column\n",
    "df.isna().sum()\n",
    "df.isnull().sum()"
   ]
  },
  {
   "cell_type": "code",
   "execution_count": 6,
   "id": "21764df3",
   "metadata": {},
   "outputs": [],
   "source": [
    "#As we can see above, Onwards 6 col the no. of null values are increasing."
   ]
  },
  {
   "cell_type": "code",
   "execution_count": 7,
   "id": "d8bfde91",
   "metadata": {},
   "outputs": [
    {
     "data": {
      "text/html": [
       "<div>\n",
       "<style scoped>\n",
       "    .dataframe tbody tr th:only-of-type {\n",
       "        vertical-align: middle;\n",
       "    }\n",
       "\n",
       "    .dataframe tbody tr th {\n",
       "        vertical-align: top;\n",
       "    }\n",
       "\n",
       "    .dataframe thead th {\n",
       "        text-align: right;\n",
       "    }\n",
       "</style>\n",
       "<table border=\"1\" class=\"dataframe\">\n",
       "  <thead>\n",
       "    <tr style=\"text-align: right;\">\n",
       "      <th></th>\n",
       "      <th>Disease</th>\n",
       "      <th>Symptom_1</th>\n",
       "      <th>Symptom_2</th>\n",
       "      <th>Symptom_3</th>\n",
       "      <th>Symptom_4</th>\n",
       "      <th>Symptom_5</th>\n",
       "      <th>Symptom_6</th>\n",
       "      <th>Symptom_7</th>\n",
       "      <th>Symptom_8</th>\n",
       "      <th>Symptom_9</th>\n",
       "      <th>Symptom_10</th>\n",
       "      <th>Symptom_11</th>\n",
       "      <th>Symptom_12</th>\n",
       "      <th>Symptom_13</th>\n",
       "      <th>Symptom_14</th>\n",
       "      <th>Symptom_15</th>\n",
       "      <th>Symptom_16</th>\n",
       "      <th>Symptom_17</th>\n",
       "    </tr>\n",
       "  </thead>\n",
       "  <tbody>\n",
       "    <tr>\n",
       "      <th>4915</th>\n",
       "      <td>(vertigo) Paroymsal  Positional Vertigo</td>\n",
       "      <td>vomiting</td>\n",
       "      <td>headache</td>\n",
       "      <td>nausea</td>\n",
       "      <td>spinning_movements</td>\n",
       "      <td>loss_of_balance</td>\n",
       "      <td>unsteadiness</td>\n",
       "      <td>0</td>\n",
       "      <td>0</td>\n",
       "      <td>0</td>\n",
       "      <td>0</td>\n",
       "      <td>0</td>\n",
       "      <td>0</td>\n",
       "      <td>0</td>\n",
       "      <td>0</td>\n",
       "      <td>0</td>\n",
       "      <td>0</td>\n",
       "      <td>0</td>\n",
       "    </tr>\n",
       "    <tr>\n",
       "      <th>4916</th>\n",
       "      <td>Acne</td>\n",
       "      <td>skin_rash</td>\n",
       "      <td>pus_filled_pimples</td>\n",
       "      <td>blackheads</td>\n",
       "      <td>scurring</td>\n",
       "      <td>0</td>\n",
       "      <td>0</td>\n",
       "      <td>0</td>\n",
       "      <td>0</td>\n",
       "      <td>0</td>\n",
       "      <td>0</td>\n",
       "      <td>0</td>\n",
       "      <td>0</td>\n",
       "      <td>0</td>\n",
       "      <td>0</td>\n",
       "      <td>0</td>\n",
       "      <td>0</td>\n",
       "      <td>0</td>\n",
       "    </tr>\n",
       "    <tr>\n",
       "      <th>4917</th>\n",
       "      <td>Urinary tract infection</td>\n",
       "      <td>burning_micturition</td>\n",
       "      <td>bladder_discomfort</td>\n",
       "      <td>foul_smell_of urine</td>\n",
       "      <td>continuous_feel_of_urine</td>\n",
       "      <td>0</td>\n",
       "      <td>0</td>\n",
       "      <td>0</td>\n",
       "      <td>0</td>\n",
       "      <td>0</td>\n",
       "      <td>0</td>\n",
       "      <td>0</td>\n",
       "      <td>0</td>\n",
       "      <td>0</td>\n",
       "      <td>0</td>\n",
       "      <td>0</td>\n",
       "      <td>0</td>\n",
       "      <td>0</td>\n",
       "    </tr>\n",
       "    <tr>\n",
       "      <th>4918</th>\n",
       "      <td>Psoriasis</td>\n",
       "      <td>skin_rash</td>\n",
       "      <td>joint_pain</td>\n",
       "      <td>skin_peeling</td>\n",
       "      <td>silver_like_dusting</td>\n",
       "      <td>small_dents_in_nails</td>\n",
       "      <td>inflammatory_nails</td>\n",
       "      <td>0</td>\n",
       "      <td>0</td>\n",
       "      <td>0</td>\n",
       "      <td>0</td>\n",
       "      <td>0</td>\n",
       "      <td>0</td>\n",
       "      <td>0</td>\n",
       "      <td>0</td>\n",
       "      <td>0</td>\n",
       "      <td>0</td>\n",
       "      <td>0</td>\n",
       "    </tr>\n",
       "    <tr>\n",
       "      <th>4919</th>\n",
       "      <td>Impetigo</td>\n",
       "      <td>skin_rash</td>\n",
       "      <td>high_fever</td>\n",
       "      <td>blister</td>\n",
       "      <td>red_sore_around_nose</td>\n",
       "      <td>yellow_crust_ooze</td>\n",
       "      <td>0</td>\n",
       "      <td>0</td>\n",
       "      <td>0</td>\n",
       "      <td>0</td>\n",
       "      <td>0</td>\n",
       "      <td>0</td>\n",
       "      <td>0</td>\n",
       "      <td>0</td>\n",
       "      <td>0</td>\n",
       "      <td>0</td>\n",
       "      <td>0</td>\n",
       "      <td>0</td>\n",
       "    </tr>\n",
       "  </tbody>\n",
       "</table>\n",
       "</div>"
      ],
      "text/plain": [
       "                                      Disease            Symptom_1  \\\n",
       "4915  (vertigo) Paroymsal  Positional Vertigo             vomiting   \n",
       "4916                                     Acne            skin_rash   \n",
       "4917                  Urinary tract infection  burning_micturition   \n",
       "4918                                Psoriasis            skin_rash   \n",
       "4919                                 Impetigo            skin_rash   \n",
       "\n",
       "               Symptom_2            Symptom_3                 Symptom_4  \\\n",
       "4915            headache               nausea        spinning_movements   \n",
       "4916  pus_filled_pimples           blackheads                  scurring   \n",
       "4917  bladder_discomfort  foul_smell_of urine  continuous_feel_of_urine   \n",
       "4918          joint_pain         skin_peeling       silver_like_dusting   \n",
       "4919          high_fever              blister      red_sore_around_nose   \n",
       "\n",
       "                 Symptom_5           Symptom_6 Symptom_7 Symptom_8 Symptom_9  \\\n",
       "4915       loss_of_balance        unsteadiness         0         0         0   \n",
       "4916                     0                   0         0         0         0   \n",
       "4917                     0                   0         0         0         0   \n",
       "4918  small_dents_in_nails  inflammatory_nails         0         0         0   \n",
       "4919     yellow_crust_ooze                   0         0         0         0   \n",
       "\n",
       "     Symptom_10 Symptom_11 Symptom_12 Symptom_13 Symptom_14 Symptom_15  \\\n",
       "4915          0          0          0          0          0          0   \n",
       "4916          0          0          0          0          0          0   \n",
       "4917          0          0          0          0          0          0   \n",
       "4918          0          0          0          0          0          0   \n",
       "4919          0          0          0          0          0          0   \n",
       "\n",
       "     Symptom_16 Symptom_17  \n",
       "4915          0          0  \n",
       "4916          0          0  \n",
       "4917          0          0  \n",
       "4918          0          0  \n",
       "4919          0          0  "
      ]
     },
     "execution_count": 7,
     "metadata": {},
     "output_type": "execute_result"
    }
   ],
   "source": [
    "#Cleaning Data\n",
    "\n",
    "cols=df.columns  #df.columns return all the columns name/head present in dataset\n",
    "data = df[cols].values.flatten() #Basically flatten the 2d array into 1d array.\n",
    "s = pd.Series(data)\n",
    "s = s.str.strip() #removes any unwanted white space\n",
    "s = s.values.reshape(df.shape) # converts the 1d array into the data shape\n",
    "df = pd.DataFrame(s, columns=df.columns) #modifying original dataset with new cleaned data\n",
    "df = df.fillna(0) #fills 0 in place of null \n",
    "df.tail() #displays data in from tail."
   ]
  },
  {
   "cell_type": "code",
   "execution_count": 8,
   "id": "c58b5966",
   "metadata": {},
   "outputs": [
    {
     "data": {
      "text/html": [
       "<div>\n",
       "<style scoped>\n",
       "    .dataframe tbody tr th:only-of-type {\n",
       "        vertical-align: middle;\n",
       "    }\n",
       "\n",
       "    .dataframe tbody tr th {\n",
       "        vertical-align: top;\n",
       "    }\n",
       "\n",
       "    .dataframe thead th {\n",
       "        text-align: right;\n",
       "    }\n",
       "</style>\n",
       "<table border=\"1\" class=\"dataframe\">\n",
       "  <thead>\n",
       "    <tr style=\"text-align: right;\">\n",
       "      <th></th>\n",
       "      <th>Disease</th>\n",
       "      <th>Symptom_1</th>\n",
       "      <th>Symptom_2</th>\n",
       "      <th>Symptom_3</th>\n",
       "      <th>Symptom_4</th>\n",
       "      <th>Symptom_5</th>\n",
       "      <th>Symptom_6</th>\n",
       "      <th>Symptom_7</th>\n",
       "      <th>Symptom_8</th>\n",
       "      <th>Symptom_9</th>\n",
       "      <th>Symptom_10</th>\n",
       "      <th>Symptom_11</th>\n",
       "      <th>Symptom_12</th>\n",
       "      <th>Symptom_13</th>\n",
       "      <th>Symptom_14</th>\n",
       "      <th>Symptom_15</th>\n",
       "      <th>Symptom_16</th>\n",
       "      <th>Symptom_17</th>\n",
       "    </tr>\n",
       "  </thead>\n",
       "  <tbody>\n",
       "    <tr>\n",
       "      <th>0</th>\n",
       "      <td>Fungal infection</td>\n",
       "      <td>1</td>\n",
       "      <td>3</td>\n",
       "      <td>4</td>\n",
       "      <td>0</td>\n",
       "      <td>0</td>\n",
       "      <td>0</td>\n",
       "      <td>0</td>\n",
       "      <td>0</td>\n",
       "      <td>0</td>\n",
       "      <td>0</td>\n",
       "      <td>0</td>\n",
       "      <td>0</td>\n",
       "      <td>0</td>\n",
       "      <td>0</td>\n",
       "      <td>0</td>\n",
       "      <td>0</td>\n",
       "      <td>0</td>\n",
       "    </tr>\n",
       "    <tr>\n",
       "      <th>1</th>\n",
       "      <td>Fungal infection</td>\n",
       "      <td>3</td>\n",
       "      <td>4</td>\n",
       "      <td>0</td>\n",
       "      <td>0</td>\n",
       "      <td>0</td>\n",
       "      <td>0</td>\n",
       "      <td>0</td>\n",
       "      <td>0</td>\n",
       "      <td>0</td>\n",
       "      <td>0</td>\n",
       "      <td>0</td>\n",
       "      <td>0</td>\n",
       "      <td>0</td>\n",
       "      <td>0</td>\n",
       "      <td>0</td>\n",
       "      <td>0</td>\n",
       "      <td>0</td>\n",
       "    </tr>\n",
       "    <tr>\n",
       "      <th>2</th>\n",
       "      <td>Fungal infection</td>\n",
       "      <td>1</td>\n",
       "      <td>4</td>\n",
       "      <td>0</td>\n",
       "      <td>0</td>\n",
       "      <td>0</td>\n",
       "      <td>0</td>\n",
       "      <td>0</td>\n",
       "      <td>0</td>\n",
       "      <td>0</td>\n",
       "      <td>0</td>\n",
       "      <td>0</td>\n",
       "      <td>0</td>\n",
       "      <td>0</td>\n",
       "      <td>0</td>\n",
       "      <td>0</td>\n",
       "      <td>0</td>\n",
       "      <td>0</td>\n",
       "    </tr>\n",
       "    <tr>\n",
       "      <th>3</th>\n",
       "      <td>Fungal infection</td>\n",
       "      <td>1</td>\n",
       "      <td>3</td>\n",
       "      <td>0</td>\n",
       "      <td>0</td>\n",
       "      <td>0</td>\n",
       "      <td>0</td>\n",
       "      <td>0</td>\n",
       "      <td>0</td>\n",
       "      <td>0</td>\n",
       "      <td>0</td>\n",
       "      <td>0</td>\n",
       "      <td>0</td>\n",
       "      <td>0</td>\n",
       "      <td>0</td>\n",
       "      <td>0</td>\n",
       "      <td>0</td>\n",
       "      <td>0</td>\n",
       "    </tr>\n",
       "    <tr>\n",
       "      <th>4</th>\n",
       "      <td>Fungal infection</td>\n",
       "      <td>1</td>\n",
       "      <td>3</td>\n",
       "      <td>4</td>\n",
       "      <td>0</td>\n",
       "      <td>0</td>\n",
       "      <td>0</td>\n",
       "      <td>0</td>\n",
       "      <td>0</td>\n",
       "      <td>0</td>\n",
       "      <td>0</td>\n",
       "      <td>0</td>\n",
       "      <td>0</td>\n",
       "      <td>0</td>\n",
       "      <td>0</td>\n",
       "      <td>0</td>\n",
       "      <td>0</td>\n",
       "      <td>0</td>\n",
       "    </tr>\n",
       "  </tbody>\n",
       "</table>\n",
       "</div>"
      ],
      "text/plain": [
       "            Disease  Symptom_1  Symptom_2  Symptom_3  Symptom_4  Symptom_5  \\\n",
       "0  Fungal infection          1          3          4          0          0   \n",
       "1  Fungal infection          3          4          0          0          0   \n",
       "2  Fungal infection          1          4          0          0          0   \n",
       "3  Fungal infection          1          3          0          0          0   \n",
       "4  Fungal infection          1          3          4          0          0   \n",
       "\n",
       "   Symptom_6  Symptom_7  Symptom_8  Symptom_9  Symptom_10  Symptom_11  \\\n",
       "0          0          0          0          0           0           0   \n",
       "1          0          0          0          0           0           0   \n",
       "2          0          0          0          0           0           0   \n",
       "3          0          0          0          0           0           0   \n",
       "4          0          0          0          0           0           0   \n",
       "\n",
       "   Symptom_12  Symptom_13  Symptom_14  Symptom_15  Symptom_16  Symptom_17  \n",
       "0           0           0           0           0           0           0  \n",
       "1           0           0           0           0           0           0  \n",
       "2           0           0           0           0           0           0  \n",
       "3           0           0           0           0           0           0  \n",
       "4           0           0           0           0           0           0  "
      ]
     },
     "execution_count": 8,
     "metadata": {},
     "output_type": "execute_result"
    }
   ],
   "source": [
    "#In section we will encode each symptoms with its severity.\n",
    "#For each symptoms we have weight in the df1 dataset, and we will perform and encoding operation to map its value.\n",
    "\n",
    "vals = df.values  #storing data into vals.\n",
    "symptoms = df1['Symptom'].unique() # storing all the available unique symptoms from 2nd dataset\n",
    "\n",
    "for i in range(len(symptoms)):\n",
    "    vals[vals == symptoms[i]] = df1[df1['Symptom'] == symptoms[i]]['weight'].values[0]\n",
    "\n",
    "d = pd.DataFrame(vals,columns=cols) #creates a new dataset where vals=New encoded symptoms value & cols=og column head/name \n",
    "\n",
    "#Since in df1 we don't have values for symptoms dischromic _patches,foul_smell_of urine and spotting_ urination\n",
    "#we will put 0 inplace of them\n",
    "\n",
    "\n",
    "d = d.replace('dischromic _patches', 0)\n",
    "d = d.replace('spotting_ urination',0)\n",
    "df = d.replace('foul_smell_of urine',0) #replacing and storing in original df\n",
    "\n",
    "df.head()"
   ]
  },
  {
   "cell_type": "code",
   "execution_count": 9,
   "id": "071c19ec",
   "metadata": {},
   "outputs": [
    {
     "data": {
      "text/plain": [
       "array(['itching', 'skin_rash', 'nodal_skin_eruptions',\n",
       "       'continuous_sneezing', 'shivering', 'chills', 'joint_pain',\n",
       "       'stomach_pain', 'acidity', 'ulcers_on_tongue', 'muscle_wasting',\n",
       "       'vomiting', 'burning_micturition', 'spotting_urination', 'fatigue',\n",
       "       'weight_gain', 'anxiety', 'cold_hands_and_feets', 'mood_swings',\n",
       "       'weight_loss', 'restlessness', 'lethargy', 'patches_in_throat',\n",
       "       'irregular_sugar_level', 'cough', 'high_fever', 'sunken_eyes',\n",
       "       'breathlessness', 'sweating', 'dehydration', 'indigestion',\n",
       "       'headache', 'yellowish_skin', 'dark_urine', 'nausea',\n",
       "       'loss_of_appetite', 'pain_behind_the_eyes', 'back_pain',\n",
       "       'constipation', 'abdominal_pain', 'diarrhoea', 'mild_fever',\n",
       "       'yellow_urine', 'yellowing_of_eyes', 'acute_liver_failure',\n",
       "       'fluid_overload', 'swelling_of_stomach', 'swelled_lymph_nodes',\n",
       "       'malaise', 'blurred_and_distorted_vision', 'phlegm',\n",
       "       'throat_irritation', 'redness_of_eyes', 'sinus_pressure',\n",
       "       'runny_nose', 'congestion', 'chest_pain', 'weakness_in_limbs',\n",
       "       'fast_heart_rate', 'pain_during_bowel_movements',\n",
       "       'pain_in_anal_region', 'bloody_stool', 'irritation_in_anus',\n",
       "       'neck_pain', 'dizziness', 'cramps', 'bruising', 'obesity',\n",
       "       'swollen_legs', 'swollen_blood_vessels', 'puffy_face_and_eyes',\n",
       "       'enlarged_thyroid', 'brittle_nails', 'swollen_extremeties',\n",
       "       'excessive_hunger', 'extra_marital_contacts',\n",
       "       'drying_and_tingling_lips', 'slurred_speech', 'knee_pain',\n",
       "       'hip_joint_pain', 'muscle_weakness', 'stiff_neck',\n",
       "       'swelling_joints', 'movement_stiffness', 'spinning_movements',\n",
       "       'loss_of_balance', 'unsteadiness', 'weakness_of_one_body_side',\n",
       "       'loss_of_smell', 'bladder_discomfort', 'foul_smell_ofurine',\n",
       "       'continuous_feel_of_urine', 'passage_of_gases', 'internal_itching',\n",
       "       'toxic_look_(typhos)', 'depression', 'irritability', 'muscle_pain',\n",
       "       'altered_sensorium', 'red_spots_over_body', 'belly_pain',\n",
       "       'abnormal_menstruation', 'dischromic_patches',\n",
       "       'watering_from_eyes', 'increased_appetite', 'polyuria',\n",
       "       'family_history', 'mucoid_sputum', 'rusty_sputum',\n",
       "       'lack_of_concentration', 'visual_disturbances',\n",
       "       'receiving_blood_transfusion', 'receiving_unsterile_injections',\n",
       "       'coma', 'stomach_bleeding', 'distention_of_abdomen',\n",
       "       'history_of_alcohol_consumption', 'blood_in_sputum',\n",
       "       'prominent_veins_on_calf', 'palpitations', 'painful_walking',\n",
       "       'pus_filled_pimples', 'blackheads', 'scurring', 'skin_peeling',\n",
       "       'silver_like_dusting', 'small_dents_in_nails',\n",
       "       'inflammatory_nails', 'blister', 'red_sore_around_nose',\n",
       "       'yellow_crust_ooze', 'prognosis'], dtype=object)"
      ]
     },
     "execution_count": 9,
     "metadata": {},
     "output_type": "execute_result"
    }
   ],
   "source": [
    "# Now lets have a look at the different symptoms, we will need this list for option inputs in front-end\n",
    "symptoms"
   ]
  },
  {
   "cell_type": "code",
   "execution_count": 10,
   "id": "fe28c0db",
   "metadata": {},
   "outputs": [
    {
     "data": {
      "text/plain": [
       "Disease       False\n",
       "Symptom_1     False\n",
       "Symptom_2     False\n",
       "Symptom_3     False\n",
       "Symptom_4     False\n",
       "Symptom_5     False\n",
       "Symptom_6     False\n",
       "Symptom_7     False\n",
       "Symptom_8     False\n",
       "Symptom_9     False\n",
       "Symptom_10    False\n",
       "Symptom_11    False\n",
       "Symptom_12    False\n",
       "Symptom_13    False\n",
       "Symptom_14    False\n",
       "Symptom_15    False\n",
       "Symptom_16    False\n",
       "Symptom_17    False\n",
       "dtype: bool"
      ]
     },
     "execution_count": 10,
     "metadata": {},
     "output_type": "execute_result"
    }
   ],
   "source": [
    "(df[cols] == 0).all()"
   ]
  },
  {
   "cell_type": "code",
   "execution_count": 11,
   "id": "8d8813b9",
   "metadata": {},
   "outputs": [
    {
     "data": {
      "text/plain": [
       "Fungal infection                           120\n",
       "Hepatitis C                                120\n",
       "Hepatitis E                                120\n",
       "Alcoholic hepatitis                        120\n",
       "Tuberculosis                               120\n",
       "Common Cold                                120\n",
       "Pneumonia                                  120\n",
       "Dimorphic hemmorhoids(piles)               120\n",
       "Heart attack                               120\n",
       "Varicose veins                             120\n",
       "Hypothyroidism                             120\n",
       "Hyperthyroidism                            120\n",
       "Hypoglycemia                               120\n",
       "Osteoarthristis                            120\n",
       "Arthritis                                  120\n",
       "(vertigo) Paroymsal  Positional Vertigo    120\n",
       "Acne                                       120\n",
       "Urinary tract infection                    120\n",
       "Psoriasis                                  120\n",
       "Hepatitis D                                120\n",
       "Hepatitis B                                120\n",
       "Allergy                                    120\n",
       "hepatitis A                                120\n",
       "GERD                                       120\n",
       "Chronic cholestasis                        120\n",
       "Drug Reaction                              120\n",
       "Peptic ulcer diseae                        120\n",
       "AIDS                                       120\n",
       "Diabetes                                   120\n",
       "Gastroenteritis                            120\n",
       "Bronchial Asthma                           120\n",
       "Hypertension                               120\n",
       "Migraine                                   120\n",
       "Cervical spondylosis                       120\n",
       "Paralysis (brain hemorrhage)               120\n",
       "Jaundice                                   120\n",
       "Malaria                                    120\n",
       "Chicken pox                                120\n",
       "Dengue                                     120\n",
       "Typhoid                                    120\n",
       "Impetigo                                   120\n",
       "Name: Disease, dtype: int64"
      ]
     },
     "execution_count": 11,
     "metadata": {},
     "output_type": "execute_result"
    }
   ],
   "source": [
    "df['Disease'].value_counts()"
   ]
  },
  {
   "cell_type": "code",
   "execution_count": 12,
   "id": "68a78841",
   "metadata": {},
   "outputs": [
    {
     "data": {
      "text/plain": [
       "array(['Fungal infection', 'Allergy', 'GERD', 'Chronic cholestasis',\n",
       "       'Drug Reaction', 'Peptic ulcer diseae', 'AIDS', 'Diabetes',\n",
       "       'Gastroenteritis', 'Bronchial Asthma', 'Hypertension', 'Migraine',\n",
       "       'Cervical spondylosis', 'Paralysis (brain hemorrhage)', 'Jaundice',\n",
       "       'Malaria', 'Chicken pox', 'Dengue', 'Typhoid', 'hepatitis A',\n",
       "       'Hepatitis B', 'Hepatitis C', 'Hepatitis D', 'Hepatitis E',\n",
       "       'Alcoholic hepatitis', 'Tuberculosis', 'Common Cold', 'Pneumonia',\n",
       "       'Dimorphic hemmorhoids(piles)', 'Heart attack', 'Varicose veins',\n",
       "       'Hypothyroidism', 'Hyperthyroidism', 'Hypoglycemia',\n",
       "       'Osteoarthristis', 'Arthritis',\n",
       "       '(vertigo) Paroymsal  Positional Vertigo', 'Acne',\n",
       "       'Urinary tract infection', 'Psoriasis', 'Impetigo'], dtype=object)"
      ]
     },
     "execution_count": 12,
     "metadata": {},
     "output_type": "execute_result"
    }
   ],
   "source": [
    "# These may be referenced later from front end\n",
    "\n",
    "df['Disease'].unique()"
   ]
  },
  {
   "cell_type": "code",
   "execution_count": 13,
   "id": "21f04dd6",
   "metadata": {
    "scrolled": true
   },
   "outputs": [
    {
     "data": {
      "text/plain": [
       "array([[1, 3, 4, ..., 0, 0, 0],\n",
       "       [3, 4, 0, ..., 0, 0, 0],\n",
       "       [1, 4, 0, ..., 0, 0, 0],\n",
       "       ...,\n",
       "       [6, 4, 0, ..., 0, 0, 0],\n",
       "       [3, 3, 3, ..., 0, 0, 0],\n",
       "       [3, 7, 4, ..., 0, 0, 0]], dtype=int64)"
      ]
     },
     "execution_count": 13,
     "metadata": {},
     "output_type": "execute_result"
    }
   ],
   "source": [
    "#This is the X param of our model.fit(X,Y)\n",
    "data = df.iloc[:,1:].values\n",
    "data"
   ]
  },
  {
   "cell_type": "code",
   "execution_count": 14,
   "id": "629664ef",
   "metadata": {},
   "outputs": [
    {
     "data": {
      "text/plain": [
       "array(['Fungal infection', 'Fungal infection', 'Fungal infection', ...,\n",
       "       'Urinary tract infection', 'Psoriasis', 'Impetigo'], dtype=object)"
      ]
     },
     "execution_count": 14,
     "metadata": {},
     "output_type": "execute_result"
    }
   ],
   "source": [
    "#This is the Y param of our model(X,Y)\n",
    "labels = df['Disease'].values\n",
    "labels"
   ]
  },
  {
   "cell_type": "code",
   "execution_count": 15,
   "id": "7a926954",
   "metadata": {},
   "outputs": [
    {
     "name": "stdout",
     "output_type": "stream",
     "text": [
      "(4182, 17) (738, 17) (4182,) (738,)\n"
     ]
    }
   ],
   "source": [
    "# Train Test split is done from the dataset\n",
    "x_train, x_test, y_train, y_test = train_test_split(data, labels, shuffle=True, train_size = 0.85)\n",
    "print(x_train.shape, x_test.shape, y_train.shape, y_test.shape)"
   ]
  },
  {
   "cell_type": "code",
   "execution_count": 16,
   "id": "f382e8c4",
   "metadata": {},
   "outputs": [
    {
     "data": {
      "text/plain": [
       "SVC()"
      ]
     },
     "execution_count": 16,
     "metadata": {},
     "output_type": "execute_result"
    }
   ],
   "source": [
    "model = SVC()\n",
    "#model.fit(x_train, y_train)"
   ]
  },
  {
   "cell_type": "code",
   "execution_count": 20,
   "id": "6eba4e9f",
   "metadata": {},
   "outputs": [
    {
     "data": {
      "text/plain": [
       "['medicine-recommender.joblib']"
      ]
     },
     "execution_count": 20,
     "metadata": {},
     "output_type": "execute_result"
    }
   ],
   "source": [
    "model.fit(data,labels)\n",
    "joblib.dump(model,'medicine-recommender.joblib')"
   ]
  },
  {
   "cell_type": "code",
   "execution_count": 17,
   "id": "628c2ff5",
   "metadata": {},
   "outputs": [
    {
     "data": {
      "text/plain": [
       "array([[4, 3, 5, ..., 0, 0, 0],\n",
       "       [1, 3, 5, ..., 0, 0, 0],\n",
       "       [3, 4, 4, ..., 0, 0, 0],\n",
       "       ...,\n",
       "       [4, 4, 4, ..., 0, 0, 0],\n",
       "       [5, 3, 4, ..., 0, 0, 0],\n",
       "       [3, 3, 3, ..., 0, 0, 0]], dtype=int64)"
      ]
     },
     "execution_count": 17,
     "metadata": {},
     "output_type": "execute_result"
    }
   ],
   "source": [
    "x_test"
   ]
  },
  {
   "cell_type": "code",
   "execution_count": 18,
   "id": "997ac931",
   "metadata": {
    "scrolled": false
   },
   "outputs": [
    {
     "data": {
      "text/plain": [
       "array(['Diabetes', 'Drug Reaction', 'Pneumonia', 'Osteoarthristis',\n",
       "       'Chronic cholestasis', 'Dimorphic hemmorhoids(piles)',\n",
       "       'Chicken pox', 'Diabetes', 'Cervical spondylosis', 'Hepatitis D',\n",
       "       'Jaundice', 'Urinary tract infection', 'hepatitis A', 'Psoriasis',\n",
       "       'Psoriasis', 'Pneumonia', 'Hepatitis D', 'Osteoarthristis',\n",
       "       'Hypothyroidism', 'Hepatitis B', 'Hepatitis C', 'Hepatitis C',\n",
       "       'Dengue', 'Dengue', 'Hypertension', 'Hepatitis C',\n",
       "       'Urinary tract infection', 'Migraine', 'Fungal infection',\n",
       "       'Gastroenteritis', 'Hepatitis B', 'GERD',\n",
       "       'Dimorphic hemmorhoids(piles)', 'Drug Reaction',\n",
       "       'Chronic cholestasis', 'Osteoarthristis', 'Allergy', 'Allergy',\n",
       "       'Cervical spondylosis', 'Chronic cholestasis', 'Hypothyroidism',\n",
       "       'Typhoid', 'Alcoholic hepatitis', 'Varicose veins',\n",
       "       'Bronchial Asthma', 'Bronchial Asthma', 'Hypothyroidism',\n",
       "       'Bronchial Asthma', 'Jaundice', 'Chronic cholestasis',\n",
       "       'Bronchial Asthma', 'Acne', 'Chronic cholestasis', 'Psoriasis',\n",
       "       'Gastroenteritis', 'Common Cold', 'Cervical spondylosis',\n",
       "       'Urinary tract infection', 'Chronic cholestasis',\n",
       "       'Fungal infection', 'Varicose veins', 'Common Cold', 'GERD',\n",
       "       'Jaundice', 'Urinary tract infection', 'Pneumonia', 'Hepatitis E',\n",
       "       'Typhoid', 'Paralysis (brain hemorrhage)', 'Fungal infection',\n",
       "       'Hypoglycemia', 'Bronchial Asthma', 'Arthritis', 'Diabetes',\n",
       "       'Varicose veins', 'Hypoglycemia', 'Diabetes', 'GERD',\n",
       "       'Hepatitis B', 'Fungal infection', 'Hypothyroidism',\n",
       "       'Chronic cholestasis', 'Osteoarthristis', 'Hepatitis E',\n",
       "       'Chicken pox', 'Malaria', 'Heart attack', 'Dengue', 'Allergy',\n",
       "       'Bronchial Asthma', 'Chronic cholestasis', 'Drug Reaction',\n",
       "       'hepatitis A', 'Allergy', 'Jaundice', 'Chicken pox',\n",
       "       'Hypothyroidism', 'Alcoholic hepatitis', 'Common Cold',\n",
       "       'Chronic cholestasis', 'Alcoholic hepatitis', 'Gastroenteritis',\n",
       "       'Hyperthyroidism', 'Peptic ulcer diseae',\n",
       "       'Paralysis (brain hemorrhage)', 'Diabetes', 'Chicken pox',\n",
       "       'Drug Reaction', '(vertigo) Paroymsal  Positional Vertigo', 'Acne',\n",
       "       'Hepatitis E', 'Hyperthyroidism', 'Hepatitis C', 'Hepatitis E',\n",
       "       'Acne', 'Hepatitis B', 'Hypoglycemia', 'Allergy', 'Drug Reaction',\n",
       "       'Fungal infection', 'Hypothyroidism', 'Jaundice',\n",
       "       'Chronic cholestasis', 'Paralysis (brain hemorrhage)',\n",
       "       'Heart attack', 'Hepatitis C', 'Heart attack', 'Allergy',\n",
       "       'Diabetes', 'Osteoarthristis', 'Hepatitis E', 'Hypertension',\n",
       "       'Tuberculosis', 'Hypertension', 'AIDS', 'Chronic cholestasis',\n",
       "       'Typhoid', 'Jaundice', 'Psoriasis', 'Jaundice', 'GERD', 'Malaria',\n",
       "       'Arthritis', 'Malaria', 'Chicken pox',\n",
       "       'Paralysis (brain hemorrhage)', 'Hypothyroidism', 'Impetigo',\n",
       "       'Osteoarthristis', 'Fungal infection', 'Hypertension', 'Acne',\n",
       "       'Chicken pox', 'Chicken pox', 'Hypoglycemia', 'Hepatitis E',\n",
       "       'Cervical spondylosis', 'Acne', 'Fungal infection',\n",
       "       'Gastroenteritis', 'Bronchial Asthma', 'Hepatitis C',\n",
       "       'Paralysis (brain hemorrhage)', 'Cervical spondylosis', 'Acne',\n",
       "       'Migraine', 'Bronchial Asthma', 'Hypertension', 'Chicken pox',\n",
       "       'Fungal infection', 'Gastroenteritis', 'Malaria', 'Acne',\n",
       "       'Malaria', 'Impetigo', 'Hyperthyroidism', 'Heart attack',\n",
       "       'Hepatitis B', 'Tuberculosis', 'Hepatitis C', 'Hepatitis D',\n",
       "       'hepatitis A', 'Hepatitis E', 'Dengue', 'Malaria', 'Hypoglycemia',\n",
       "       'Hepatitis C', 'Bronchial Asthma', 'Paralysis (brain hemorrhage)',\n",
       "       'Tuberculosis', 'Hepatitis C', 'Dengue',\n",
       "       'Dimorphic hemmorhoids(piles)', 'Common Cold', 'Allergy',\n",
       "       'Impetigo', 'Common Cold', 'Impetigo', 'Hypertension', 'AIDS',\n",
       "       'Migraine', 'Hypothyroidism', 'Varicose veins',\n",
       "       'Dimorphic hemmorhoids(piles)', 'Allergy', 'Gastroenteritis',\n",
       "       'Hepatitis C', 'Common Cold', 'AIDS', 'Typhoid', 'Allergy',\n",
       "       'Osteoarthristis', 'Dimorphic hemmorhoids(piles)',\n",
       "       'Urinary tract infection', 'Hepatitis D', 'Migraine', 'Diabetes',\n",
       "       'Malaria', 'Hepatitis D', 'Chicken pox', 'Cervical spondylosis',\n",
       "       'Fungal infection', 'AIDS', 'Allergy', 'Acne', 'Gastroenteritis',\n",
       "       'Drug Reaction', 'Chicken pox', 'Gastroenteritis',\n",
       "       'Dimorphic hemmorhoids(piles)', 'Acne',\n",
       "       '(vertigo) Paroymsal  Positional Vertigo', 'Hypothyroidism',\n",
       "       'GERD', 'Dimorphic hemmorhoids(piles)', 'Typhoid',\n",
       "       'Chronic cholestasis', 'Urinary tract infection',\n",
       "       'Dimorphic hemmorhoids(piles)', 'Urinary tract infection',\n",
       "       'Common Cold', 'Common Cold', 'Allergy', 'Gastroenteritis',\n",
       "       'Hepatitis D', 'Peptic ulcer diseae', 'Impetigo', 'Typhoid',\n",
       "       'Hepatitis B', 'Dimorphic hemmorhoids(piles)', 'Tuberculosis',\n",
       "       '(vertigo) Paroymsal  Positional Vertigo', 'Alcoholic hepatitis',\n",
       "       'Allergy', 'Cervical spondylosis', 'Varicose veins',\n",
       "       'Urinary tract infection', 'Osteoarthristis', 'Arthritis',\n",
       "       'Hypothyroidism', 'Paralysis (brain hemorrhage)', 'Drug Reaction',\n",
       "       'Acne', 'Arthritis', 'hepatitis A', 'Hepatitis B',\n",
       "       'Chronic cholestasis', 'Cervical spondylosis', 'Malaria',\n",
       "       'Diabetes', 'Peptic ulcer diseae', 'Hypoglycemia',\n",
       "       'Osteoarthristis', 'Paralysis (brain hemorrhage)', 'Typhoid',\n",
       "       'Urinary tract infection', 'Hypothyroidism', 'Common Cold',\n",
       "       'Migraine', 'Osteoarthristis', 'Paralysis (brain hemorrhage)',\n",
       "       'Typhoid', 'Fungal infection', 'AIDS', 'Hypothyroidism',\n",
       "       'Hypoglycemia', 'Diabetes', 'Arthritis', 'Acne', 'GERD',\n",
       "       'Tuberculosis', 'Dimorphic hemmorhoids(piles)', 'Hypoglycemia',\n",
       "       'Hypertension', 'Gastroenteritis', 'GERD',\n",
       "       'Urinary tract infection', 'Tuberculosis', 'Arthritis',\n",
       "       'Chicken pox', 'Migraine', 'Hypothyroidism', 'Gastroenteritis',\n",
       "       'AIDS', 'Hepatitis C', 'Hepatitis E', 'Hepatitis B', 'Impetigo',\n",
       "       'Diabetes', '(vertigo) Paroymsal  Positional Vertigo',\n",
       "       'Fungal infection', 'Common Cold', 'Peptic ulcer diseae',\n",
       "       'Peptic ulcer diseae', 'Common Cold', 'Peptic ulcer diseae',\n",
       "       'hepatitis A', 'Hyperthyroidism', 'Pneumonia',\n",
       "       'Chronic cholestasis', 'Malaria', 'Peptic ulcer diseae',\n",
       "       'Tuberculosis', 'Chronic cholestasis', 'Arthritis',\n",
       "       'Varicose veins', 'Osteoarthristis', 'Cervical spondylosis',\n",
       "       'Hypoglycemia', 'Cervical spondylosis', 'Heart attack',\n",
       "       'Cervical spondylosis', 'Hepatitis D', 'Drug Reaction',\n",
       "       'Common Cold', 'Diabetes', 'Impetigo', 'Typhoid', 'Typhoid',\n",
       "       'Chronic cholestasis', 'Bronchial Asthma', 'Hepatitis C',\n",
       "       'Hepatitis C', 'Hepatitis E', 'Allergy', 'Hepatitis D',\n",
       "       'Hepatitis D', 'Hepatitis C', 'Chicken pox',\n",
       "       'Cervical spondylosis', 'Migraine', 'Psoriasis', 'GERD',\n",
       "       'Jaundice', 'Chicken pox', 'Hypoglycemia', 'Heart attack',\n",
       "       'hepatitis A', 'Diabetes', 'Common Cold',\n",
       "       'Paralysis (brain hemorrhage)', 'Chicken pox', 'Varicose veins',\n",
       "       'hepatitis A', 'GERD', 'Malaria', 'Dimorphic hemmorhoids(piles)',\n",
       "       'Acne', 'Cervical spondylosis', 'Paralysis (brain hemorrhage)',\n",
       "       'Pneumonia', 'Arthritis', 'Chicken pox', 'Osteoarthristis', 'AIDS',\n",
       "       'Hepatitis B', 'Pneumonia', 'Jaundice', 'Arthritis', 'Hepatitis B',\n",
       "       'Heart attack', 'Hypertension', 'Gastroenteritis', 'Hepatitis E',\n",
       "       'Diabetes', 'Malaria', 'Chicken pox',\n",
       "       'Dimorphic hemmorhoids(piles)', 'Paralysis (brain hemorrhage)',\n",
       "       'Dimorphic hemmorhoids(piles)', 'Osteoarthristis',\n",
       "       'Urinary tract infection', 'Hepatitis D', 'Hepatitis E',\n",
       "       'Dimorphic hemmorhoids(piles)', 'Osteoarthristis', 'Psoriasis',\n",
       "       'Bronchial Asthma', 'Gastroenteritis', 'Chronic cholestasis',\n",
       "       'Chronic cholestasis', 'Osteoarthristis',\n",
       "       '(vertigo) Paroymsal  Positional Vertigo', 'AIDS',\n",
       "       'Peptic ulcer diseae', 'GERD', 'Arthritis', 'Alcoholic hepatitis',\n",
       "       'Drug Reaction', 'Hypoglycemia', 'Bronchial Asthma', 'Hepatitis B',\n",
       "       'Fungal infection', 'Chicken pox', 'Hepatitis E',\n",
       "       'Cervical spondylosis', 'Cervical spondylosis', 'Bronchial Asthma',\n",
       "       'hepatitis A', 'Urinary tract infection', 'Gastroenteritis',\n",
       "       'Urinary tract infection', 'Varicose veins', 'Acne',\n",
       "       'Gastroenteritis', 'Osteoarthristis',\n",
       "       '(vertigo) Paroymsal  Positional Vertigo', 'Hepatitis E',\n",
       "       'Migraine', 'Varicose veins', 'Diabetes', 'Malaria',\n",
       "       'Paralysis (brain hemorrhage)', 'Osteoarthristis', 'Arthritis',\n",
       "       'Acne', 'Paralysis (brain hemorrhage)', 'Alcoholic hepatitis',\n",
       "       'Diabetes', 'Common Cold', 'Acne', 'Hypertension', 'Drug Reaction',\n",
       "       'Osteoarthristis', 'Hepatitis B', 'Dengue', 'Acne', 'Diabetes',\n",
       "       'AIDS', 'Gastroenteritis', 'Varicose veins', 'Allergy',\n",
       "       '(vertigo) Paroymsal  Positional Vertigo', 'Malaria',\n",
       "       'Hepatitis B', 'Varicose veins',\n",
       "       '(vertigo) Paroymsal  Positional Vertigo', 'Chicken pox', 'GERD',\n",
       "       'Acne', 'Fungal infection', 'AIDS', 'Typhoid', 'Hepatitis B',\n",
       "       'Migraine', 'Peptic ulcer diseae', 'Cervical spondylosis',\n",
       "       'Diabetes', 'Hepatitis D', 'GERD', 'Gastroenteritis',\n",
       "       'Urinary tract infection', 'Osteoarthristis', 'Acne',\n",
       "       'Hyperthyroidism', 'Pneumonia', 'Drug Reaction', 'Arthritis',\n",
       "       'Paralysis (brain hemorrhage)', 'Malaria', 'Hypothyroidism',\n",
       "       'hepatitis A', 'Arthritis', 'Hepatitis D', 'Hepatitis C',\n",
       "       'Paralysis (brain hemorrhage)', 'Drug Reaction', 'Hypothyroidism',\n",
       "       'Malaria', 'Alcoholic hepatitis', 'Psoriasis', 'Diabetes',\n",
       "       'Typhoid', 'Typhoid', 'Psoriasis', 'Acne', 'Bronchial Asthma',\n",
       "       'Osteoarthristis', 'Hypoglycemia', 'hepatitis A', 'Hepatitis B',\n",
       "       'Cervical spondylosis', 'hepatitis A', 'Psoriasis', 'Chicken pox',\n",
       "       'Alcoholic hepatitis', 'Arthritis', 'AIDS', 'Hepatitis D',\n",
       "       'Gastroenteritis', 'Hepatitis D', 'Jaundice', 'Psoriasis',\n",
       "       'Chronic cholestasis', 'Common Cold', 'Arthritis', 'Typhoid',\n",
       "       'Pneumonia', 'Dimorphic hemmorhoids(piles)', 'Gastroenteritis',\n",
       "       'AIDS', 'Cervical spondylosis', 'Hypothyroidism',\n",
       "       'Cervical spondylosis', 'Hepatitis B', 'Pneumonia', 'Hepatitis E',\n",
       "       'Drug Reaction', 'Hypoglycemia', 'Gastroenteritis', 'Hypoglycemia',\n",
       "       'Hypoglycemia', 'Allergy', 'Paralysis (brain hemorrhage)',\n",
       "       'Paralysis (brain hemorrhage)', 'Osteoarthristis',\n",
       "       'Paralysis (brain hemorrhage)', 'Impetigo', 'Osteoarthristis',\n",
       "       'Malaria', 'Hypertension', 'GERD', 'Impetigo', 'Fungal infection',\n",
       "       'Hepatitis C', 'Fungal infection', 'Migraine', 'Psoriasis',\n",
       "       'Arthritis', 'Hypoglycemia', 'Diabetes', 'Drug Reaction', 'GERD',\n",
       "       'Diabetes', 'AIDS', 'Hypertension', 'Allergy', 'Hepatitis E',\n",
       "       'AIDS', 'Hypoglycemia', 'Hypoglycemia', 'Dengue',\n",
       "       'Urinary tract infection', 'Hepatitis E', 'Common Cold',\n",
       "       'Tuberculosis', 'Chicken pox', 'Dimorphic hemmorhoids(piles)',\n",
       "       'Acne', 'Gastroenteritis', 'Hypothyroidism', 'Hepatitis D',\n",
       "       'Hypoglycemia', 'Acne', 'Dimorphic hemmorhoids(piles)', 'Typhoid',\n",
       "       'Common Cold', 'Alcoholic hepatitis', 'Tuberculosis', 'AIDS',\n",
       "       'Impetigo', 'Alcoholic hepatitis', 'Paralysis (brain hemorrhage)',\n",
       "       'Common Cold', 'Impetigo', 'Gastroenteritis', 'Hyperthyroidism',\n",
       "       'Malaria', 'Osteoarthristis', 'Psoriasis', 'GERD', 'Jaundice',\n",
       "       'Hypertension', 'Jaundice', 'Fungal infection', 'Impetigo',\n",
       "       'Tuberculosis', 'Pneumonia', 'Migraine', 'Hepatitis D',\n",
       "       'Hepatitis E', 'Hypothyroidism', 'AIDS', 'Typhoid', 'Malaria',\n",
       "       'Alcoholic hepatitis', 'Heart attack', 'Alcoholic hepatitis',\n",
       "       'Chronic cholestasis', 'Allergy', 'Common Cold', 'Osteoarthristis',\n",
       "       '(vertigo) Paroymsal  Positional Vertigo', 'Hepatitis B',\n",
       "       'Hypertension', 'Chronic cholestasis', 'Migraine', 'Allergy',\n",
       "       'Chicken pox', 'Fungal infection', 'Malaria', 'Drug Reaction',\n",
       "       'Arthritis', 'Hepatitis B', 'Impetigo', 'Peptic ulcer diseae',\n",
       "       'Hypothyroidism', 'Hepatitis D', 'Migraine', 'Acne', 'Malaria',\n",
       "       'Fungal infection', 'Hypothyroidism', 'Malaria',\n",
       "       'Urinary tract infection', 'Hypertension', 'Impetigo',\n",
       "       'Dimorphic hemmorhoids(piles)', 'Hepatitis E', 'Psoriasis',\n",
       "       'Chronic cholestasis', 'Hepatitis C', 'Acne',\n",
       "       'Peptic ulcer diseae', 'Osteoarthristis', 'Acne',\n",
       "       'Peptic ulcer diseae', 'Arthritis', 'Chronic cholestasis',\n",
       "       'Typhoid', 'Dimorphic hemmorhoids(piles)', 'Common Cold',\n",
       "       'Pneumonia', 'Typhoid', 'Gastroenteritis', 'Gastroenteritis',\n",
       "       'Malaria', 'Acne', 'Alcoholic hepatitis', 'Pneumonia', 'Migraine',\n",
       "       'Malaria', 'Dimorphic hemmorhoids(piles)', 'Gastroenteritis',\n",
       "       'Varicose veins', 'Arthritis', 'Arthritis', 'Alcoholic hepatitis',\n",
       "       'Osteoarthristis', 'Chronic cholestasis', 'AIDS',\n",
       "       'Osteoarthristis', 'Hypertension', 'Allergy', 'Hypertension',\n",
       "       'Chronic cholestasis', 'Hypoglycemia', 'Malaria',\n",
       "       'Paralysis (brain hemorrhage)', 'Hepatitis B', 'Migraine',\n",
       "       'Cervical spondylosis', 'hepatitis A', 'Osteoarthristis',\n",
       "       'Urinary tract infection', 'Chronic cholestasis', 'Acne',\n",
       "       'Hepatitis C', 'Drug Reaction', 'Chronic cholestasis',\n",
       "       'Peptic ulcer diseae', 'Psoriasis', 'Dimorphic hemmorhoids(piles)',\n",
       "       'Peptic ulcer diseae', 'Psoriasis', 'Varicose veins', 'Jaundice',\n",
       "       'Common Cold', 'AIDS', 'Hypoglycemia', 'Peptic ulcer diseae',\n",
       "       'Hepatitis C', 'Chicken pox', 'Hypertension', 'Hepatitis E',\n",
       "       'Hepatitis B', 'Hypoglycemia', 'Hyperthyroidism', 'Hypothyroidism',\n",
       "       'Paralysis (brain hemorrhage)', 'Hepatitis B',\n",
       "       'Urinary tract infection', 'Typhoid', 'AIDS', 'Chicken pox',\n",
       "       'Impetigo', 'Chicken pox', 'Hypothyroidism', 'Gastroenteritis',\n",
       "       'GERD', 'Gastroenteritis', 'Jaundice', 'Hypertension',\n",
       "       'Gastroenteritis', 'Diabetes', 'Fungal infection', 'Chicken pox',\n",
       "       'Peptic ulcer diseae', 'Paralysis (brain hemorrhage)',\n",
       "       'Dimorphic hemmorhoids(piles)', 'Cervical spondylosis', 'Acne',\n",
       "       'Hypothyroidism', 'Chronic cholestasis', 'Hepatitis E',\n",
       "       'Varicose veins', 'Paralysis (brain hemorrhage)', 'Psoriasis'],\n",
       "      dtype=object)"
      ]
     },
     "execution_count": 18,
     "metadata": {},
     "output_type": "execute_result"
    }
   ],
   "source": [
    "preds = model.predict(x_test)\n",
    "preds"
   ]
  },
  {
   "cell_type": "code",
   "execution_count": 19,
   "id": "2b141ad6",
   "metadata": {},
   "outputs": [
    {
     "name": "stdout",
     "output_type": "stream",
     "text": [
      "F1-score% = 93.30074212552361 | Accuracy% = 93.4959349593496\n"
     ]
    },
    {
     "data": {
      "text/plain": [
       "<AxesSubplot:>"
      ]
     },
     "execution_count": 19,
     "metadata": {},
     "output_type": "execute_result"
    },
    {
     "data": {
      "image/png": "[encoded data removed]",
      "text/plain": [
       "<Figure size 432x288 with 2 Axes>"
      ]
     },
     "metadata": {
      "needs_background": "light"
     },
     "output_type": "display_data"
    }
   ],
   "source": [
    "conf_mat = confusion_matrix(y_test, preds)\n",
    "df_cm = pd.DataFrame(conf_mat, index=df['Disease'].unique(), columns=df['Disease'].unique())\n",
    "print('F1-score% =', f1_score(y_test, preds, average='macro')*100, '|', 'Accuracy% =', accuracy_score(y_test, preds)*100)\n",
    "sns.heatmap(df_cm)"
   ]
  },
  {
   "cell_type": "code",
   "execution_count": null,
   "id": "914499c5",
   "metadata": {},
   "outputs": [],
   "source": []
  }
 ],
 "metadata": {
  "kernelspec": {
   "display_name": "Python 3",
   "language": "python",
   "name": "python3"
  },
  "language_info": {
   "codemirror_mode": {
    "name": "ipython",
    "version": 3
   },
   "file_extension": ".py",
   "mimetype": "text/x-python",
   "name": "python",
   "nbconvert_exporter": "python",
   "pygments_lexer": "ipython3",
   "version": "3.9.1"
  }
 },
 "nbformat": 4,
 "nbformat_minor": 5
}
